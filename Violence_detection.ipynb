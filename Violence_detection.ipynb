{
  "cells": [
    {
      "cell_type": "code",
      "execution_count": null,
      "metadata": {
        "id": "kAn-SyLtea7r"
      },
      "outputs": [],
      "source": [
        "from __future__ import absolute_import\n",
        "from __future__  import division\n",
        "from __future__ import print_function\n",
        "import tensorflow as tf\n",
        "import numpy as np\n",
        "from skimage.io import imread\n",
        "from skimage.transform import resize\n",
        "import cv2\n",
        "import numpy as np\n",
        "import os\n",
        "from PIL import Image\n",
        "from io import BytesIO\n",
        "import time"
      ]
    },
    {
      "cell_type": "code",
      "execution_count": null,
      "metadata": {
        "id": "EFB1p9C8ea7v"
      },
      "outputs": [],
      "source": [
        "from tensorflow.keras.models import Sequential, Model, load_model\n",
        "from tensorflow.keras.layers import  Dropout, Dense, Flatten, Input\n",
        "from tensorflow.keras.optimizers import Adam\n",
        "from tensorflow.keras.metrics import categorical_crossentropy\n",
        "from tensorflow.keras.preprocessing.image import ImageDataGenerator"
      ]
    },
    {
      "cell_type": "code",
      "execution_count": null,
      "metadata": {
        "colab": {
          "base_uri": "https://localhost:8080/"
        },
        "id": "ANxknyV6ea7w",
        "outputId": "65c52a16-cd81-4eac-d31b-c078b02695cc"
      },
      "outputs": [
        {
          "output_type": "stream",
          "name": "stdout",
          "text": [
            "[name: \"/device:CPU:0\"\n",
            "device_type: \"CPU\"\n",
            "memory_limit: 268435456\n",
            "locality {\n",
            "}\n",
            "incarnation: 2721173182146015956\n",
            "xla_global_id: -1\n",
            ", name: \"/device:GPU:0\"\n",
            "device_type: \"GPU\"\n",
            "memory_limit: 14343274496\n",
            "locality {\n",
            "  bus_id: 1\n",
            "  links {\n",
            "  }\n",
            "}\n",
            "incarnation: 10641431736162363993\n",
            "physical_device_desc: \"device: 0, name: Tesla T4, pci bus id: 0000:00:04.0, compute capability: 7.5\"\n",
            "xla_global_id: 416903419\n",
            "]\n"
          ]
        }
      ],
      "source": [
        "from tensorflow.python.client import device_lib\n",
        "print(device_lib.list_local_devices())"
      ]
    },
    {
      "cell_type": "code",
      "source": [
        "from google.colab import drive\n",
        "drive.mount('/content/drive')"
      ],
      "metadata": {
        "colab": {
          "base_uri": "https://localhost:8080/"
        },
        "id": "SPBS-RzQew58",
        "outputId": "4d6151e8-0626-4590-d893-e0bf0045052e"
      },
      "execution_count": null,
      "outputs": [
        {
          "output_type": "stream",
          "name": "stdout",
          "text": [
            "Drive already mounted at /content/drive; to attempt to forcibly remount, call drive.mount(\"/content/drive\", force_remount=True).\n"
          ]
        }
      ]
    },
    {
      "cell_type": "code",
      "execution_count": null,
      "metadata": {
        "id": "ufejz6Buea7w"
      },
      "outputs": [],
      "source": [
        "def souhaiel_model(tf,wgts='fightw.hdfs'):\n",
        "    layers = tf.keras.layers\n",
        "    models = tf.keras.models\n",
        "    losses = tf.keras.losses\n",
        "    optimizers = tf.keras.optimizers\n",
        "    metrics = tf.keras.metrics\n",
        "    num_classes = 2\n",
        "    cnn = models.Sequential()\n",
        "    #cnn.add(base_model)\n",
        "    input_shapes=(160,160,3)\n",
        "    np.random.seed(1234)\n",
        "    vg19 = tf.keras.applications.vgg19.VGG19\n",
        "    base_model = vg19(include_top=False,weights='imagenet',input_shape=(160, 160,3))\n",
        "    # Freeze the layers except the last 4 layers (we will only use the base model to extract features)\n",
        "    cnn = models.Sequential()\n",
        "    cnn.add(base_model)\n",
        "    cnn.add(layers.Flatten())\n",
        "    model = models.Sequential()\n",
        "    model.add(layers.TimeDistributed(cnn,  input_shape=(30, 160, 160, 3)))\n",
        "    model.add(layers.LSTM(30 , return_sequences= True))\n",
        "    model.add(layers.TimeDistributed(layers.Dense(90)))\n",
        "    model.add(layers.Dropout(0.1))\n",
        "    model.add(layers.GlobalAveragePooling1D())\n",
        "    model.add(layers.Dense(512, activation='relu'))\n",
        "    model.add(layers.Dropout(0.3))\n",
        "    model.add(layers.Dense(num_classes, activation=\"sigmoid\"))\n",
        "    adam = optimizers.Adam(lr=0.0005, beta_1=0.9, beta_2=0.999, epsilon=1e-08)\n",
        "    model.load_weights(wgts)\n",
        "    rms = optimizers.RMSprop()\n",
        "    model.compile(loss='binary_crossentropy', optimizer=adam, metrics=[\"accuracy\"])\n",
        "    return model\n"
      ]
    },
    {
      "cell_type": "code",
      "execution_count": null,
      "metadata": {
        "colab": {
          "base_uri": "https://localhost:8080/"
        },
        "id": "pGuShbAhea7x",
        "outputId": "1cb6b3c2-cde6-4cc7-b0aa-c97a46befbc4"
      },
      "outputs": [
        {
          "output_type": "stream",
          "name": "stderr",
          "text": [
            "WARNING:absl:`lr` is deprecated in Keras optimizer, please use `learning_rate` or use the legacy optimizer, e.g.,tf.keras.optimizers.legacy.Adam.\n"
          ]
        },
        {
          "output_type": "stream",
          "name": "stdout",
          "text": [
            "Model: \"sequential_5\"\n",
            "_________________________________________________________________\n",
            " Layer (type)                Output Shape              Param #   \n",
            "=================================================================\n",
            " time_distributed_2 (TimeDis  (None, 30, 12800)        20024384  \n",
            " tributed)                                                       \n",
            "                                                                 \n",
            " lstm_1 (LSTM)               (None, 30, 30)            1539720   \n",
            "                                                                 \n",
            " time_distributed_3 (TimeDis  (None, 30, 90)           2790      \n",
            " tributed)                                                       \n",
            "                                                                 \n",
            " dropout_2 (Dropout)         (None, 30, 90)            0         \n",
            "                                                                 \n",
            " global_average_pooling1d_1   (None, 90)               0         \n",
            " (GlobalAveragePooling1D)                                        \n",
            "                                                                 \n",
            " dense_4 (Dense)             (None, 512)               46592     \n",
            "                                                                 \n",
            " dropout_3 (Dropout)         (None, 512)               0         \n",
            "                                                                 \n",
            " dense_5 (Dense)             (None, 2)                 1026      \n",
            "                                                                 \n",
            "=================================================================\n",
            "Total params: 21,614,512\n",
            "Trainable params: 21,614,512\n",
            "Non-trainable params: 0\n",
            "_________________________________________________________________\n",
            "None\n"
          ]
        }
      ],
      "source": [
        "model1 = souhaiel_model(tf,wgts='/content/drive/MyDrive/폭력 탐지 모델/fightw.hdfs')\n",
        "print(model1.summary())"
      ]
    },
    {
      "cell_type": "code",
      "execution_count": null,
      "metadata": {
        "colab": {
          "base_uri": "https://localhost:8080/",
          "height": 856
        },
        "id": "_egeHUujea7y",
        "outputId": "e6f1b4dc-926f-47d7-e0fb-e86834118688"
      },
      "outputs": [
        {
          "output_type": "execute_result",
          "data": {
            "image/png": "[encoded data removed]",
            "text/plain": [
              "<IPython.core.display.Image object>"
            ]
          },
          "metadata": {},
          "execution_count": 9
        }
      ],
      "source": [
        "from tensorflow.keras.utils import plot_model\n",
        "plot_model(model1, to_file='souhaiel.png')"
      ]
    },
    {
      "cell_type": "code",
      "execution_count": null,
      "metadata": {
        "colab": {
          "base_uri": "https://localhost:8080/"
        },
        "id": "lPXZ3mQPea7z",
        "outputId": "4093bdee-e7aa-4019-b820-1e70dac7f84b"
      },
      "outputs": [
        {
          "output_type": "stream",
          "name": "stderr",
          "text": [
            "WARNING:absl:`lr` is deprecated in Keras optimizer, please use `learning_rate` or use the legacy optimizer, e.g.,tf.keras.optimizers.legacy.Adam.\n"
          ]
        }
      ],
      "source": [
        "import numpy as np\n",
        "from skimage.transform import resize\n",
        "np.random.seed(1234)\n",
        "model1 = souhaiel_model(tf,wgts='/content/drive/MyDrive/폭력 탐지 모델/fightw.hdfs')"
      ]
    },
    {
      "cell_type": "code",
      "execution_count": null,
      "metadata": {
        "id": "wAtcwvS2ea7z"
      },
      "outputs": [],
      "source": [
        "graph = tf.compat.v1.get_default_graph"
      ]
    },
    {
      "cell_type": "code",
      "execution_count": null,
      "metadata": {
        "colab": {
          "base_uri": "https://localhost:8080/"
        },
        "id": "CiU84AJrea70",
        "outputId": "b6a379bc-2093-4293-ee0e-60d066572637"
      },
      "outputs": [
        {
          "output_type": "execute_result",
          "data": {
            "text/plain": [
              "<function tensorflow.python.framework.ops.get_default_graph()>"
            ]
          },
          "metadata": {},
          "execution_count": 12
        }
      ],
      "source": [
        "graph"
      ]
    },
    {
      "cell_type": "code",
      "execution_count": null,
      "metadata": {
        "id": "OJlPgQagea70"
      },
      "outputs": [],
      "source": [
        "def video_reader(cv2,filename):\n",
        "    frames = np.zeros((30, 160, 160, 3), dtype=np.float)\n",
        "    i=0\n",
        "    print(frames.shape)\n",
        "    vc = cv2.VideoCapture(filename)\n",
        "    if vc.isOpened():\n",
        "        rval , frame = vc.read()\n",
        "    else:\n",
        "        rval = False\n",
        "    frm = resize(frame,(160,160,3))\n",
        "    frm = np.expand_dims(frm,axis=0)\n",
        "    if(np.max(frm)>1):\n",
        "        frm = frm/255.0\n",
        "    frames[i][:] = frm\n",
        "    i +=1\n",
        "    print(\"reading video\")\n",
        "    while i < 30:\n",
        "        rval, frame = vc.read()\n",
        "        frm = resize(frame,(160,160,3))\n",
        "        frm = np.expand_dims(frm,axis=0)\n",
        "        if(np.max(frm)>1):\n",
        "            frm = frm/255.0\n",
        "        frames[i][:] = frm\n",
        "        i +=1\n",
        "    return frames"
      ]
    },
    {
      "cell_type": "code",
      "execution_count": null,
      "metadata": {
        "jupyter": {
          "outputs_hidden": true
        },
        "id": "g0ywFKNtea71"
      },
      "outputs": [],
      "source": [
        "# for 영상 in 폴더:\n",
        "    # frm = video_reader(cv2, 영상)\n",
        "    # video_lst.append(frm)"
      ]
    },
    {
      "cell_type": "code",
      "source": [
        "lst = []"
      ],
      "metadata": {
        "id": "p1LLHFg1edAZ"
      },
      "execution_count": null,
      "outputs": []
    },
    {
      "cell_type": "code",
      "source": [
        "import cv2\n",
        "import os\n",
        "\n",
        "# 비디오 파일이 있는 폴더 경로\n",
        "folder_path = '/content/drive/MyDrive/폭력 탐지 모델/낙상비디오 9~16/'\n",
        "\n",
        "# 폴더 내 모든 비디오 파일 리스트 생성\n",
        "video_list = os.listdir(folder_path)\n",
        "\n",
        "# 비디오 파일들을 차례대로 읽어들이기\n",
        "for video_file in video_list:\n",
        "    video_path = os.path.join(folder_path, video_file)\n",
        "    frm = video_reader(cv2, video_path)\n",
        "    lst.append(frm)"
      ],
      "metadata": {
        "colab": {
          "base_uri": "https://localhost:8080/"
        },
        "id": "tsPm_49OeFpi",
        "outputId": "9ea02da0-b8d4-4d4b-8946-8c9e8ffffc15"
      },
      "execution_count": null,
      "outputs": [
        {
          "output_type": "stream",
          "name": "stderr",
          "text": [
            "<ipython-input-21-bcf2b196095c>:2: DeprecationWarning: `np.float` is a deprecated alias for the builtin `float`. To silence this warning, use `float` by itself. Doing this will not modify any behavior and is safe. If you specifically wanted the numpy scalar type, use `np.float64` here.\n",
            "Deprecated in NumPy 1.20; for more details and guidance: https://numpy.org/devdocs/release/1.20.0-notes.html#deprecations\n",
            "  frames = np.zeros((30, 160, 160, 3), dtype=np.float)\n"
          ]
        },
        {
          "output_type": "stream",
          "name": "stdout",
          "text": [
            "(30, 160, 160, 3)\n",
            "reading video\n",
            "(30, 160, 160, 3)\n",
            "reading video\n",
            "(30, 160, 160, 3)\n",
            "reading video\n",
            "(30, 160, 160, 3)\n",
            "reading video\n",
            "(30, 160, 160, 3)\n",
            "reading video\n",
            "(30, 160, 160, 3)\n",
            "reading video\n",
            "(30, 160, 160, 3)\n",
            "reading video\n",
            "(30, 160, 160, 3)\n",
            "reading video\n",
            "(30, 160, 160, 3)\n",
            "reading video\n",
            "(30, 160, 160, 3)\n",
            "reading video\n",
            "(30, 160, 160, 3)\n",
            "reading video\n",
            "(30, 160, 160, 3)\n",
            "reading video\n",
            "(30, 160, 160, 3)\n",
            "reading video\n",
            "(30, 160, 160, 3)\n",
            "reading video\n",
            "(30, 160, 160, 3)\n",
            "reading video\n",
            "(30, 160, 160, 3)\n",
            "reading video\n",
            "(30, 160, 160, 3)\n",
            "reading video\n",
            "(30, 160, 160, 3)\n",
            "reading video\n",
            "(30, 160, 160, 3)\n",
            "reading video\n",
            "(30, 160, 160, 3)\n",
            "reading video\n",
            "(30, 160, 160, 3)\n",
            "reading video\n",
            "(30, 160, 160, 3)\n",
            "reading video\n",
            "(30, 160, 160, 3)\n",
            "reading video\n",
            "(30, 160, 160, 3)\n",
            "reading video\n",
            "(30, 160, 160, 3)\n",
            "reading video\n",
            "(30, 160, 160, 3)\n",
            "reading video\n",
            "(30, 160, 160, 3)\n",
            "reading video\n",
            "(30, 160, 160, 3)\n",
            "reading video\n",
            "(30, 160, 160, 3)\n",
            "reading video\n",
            "(30, 160, 160, 3)\n",
            "reading video\n",
            "(30, 160, 160, 3)\n",
            "reading video\n",
            "(30, 160, 160, 3)\n",
            "reading video\n",
            "(30, 160, 160, 3)\n",
            "reading video\n",
            "(30, 160, 160, 3)\n",
            "reading video\n",
            "(30, 160, 160, 3)\n",
            "reading video\n",
            "(30, 160, 160, 3)\n",
            "reading video\n",
            "(30, 160, 160, 3)\n",
            "reading video\n",
            "(30, 160, 160, 3)\n",
            "reading video\n",
            "(30, 160, 160, 3)\n",
            "reading video\n",
            "(30, 160, 160, 3)\n",
            "reading video\n",
            "(30, 160, 160, 3)\n",
            "reading video\n",
            "(30, 160, 160, 3)\n",
            "reading video\n",
            "(30, 160, 160, 3)\n",
            "reading video\n",
            "(30, 160, 160, 3)\n",
            "reading video\n",
            "(30, 160, 160, 3)\n",
            "reading video\n",
            "(30, 160, 160, 3)\n",
            "reading video\n",
            "(30, 160, 160, 3)\n",
            "reading video\n",
            "(30, 160, 160, 3)\n",
            "reading video\n",
            "(30, 160, 160, 3)\n",
            "reading video\n",
            "(30, 160, 160, 3)\n",
            "reading video\n",
            "(30, 160, 160, 3)\n",
            "reading video\n",
            "(30, 160, 160, 3)\n",
            "reading video\n",
            "(30, 160, 160, 3)\n",
            "reading video\n",
            "(30, 160, 160, 3)\n",
            "reading video\n",
            "(30, 160, 160, 3)\n",
            "reading video\n",
            "(30, 160, 160, 3)\n",
            "reading video\n",
            "(30, 160, 160, 3)\n",
            "reading video\n",
            "(30, 160, 160, 3)\n",
            "reading video\n",
            "(30, 160, 160, 3)\n",
            "reading video\n",
            "(30, 160, 160, 3)\n",
            "reading video\n",
            "(30, 160, 160, 3)\n",
            "reading video\n",
            "(30, 160, 160, 3)\n",
            "reading video\n",
            "(30, 160, 160, 3)\n",
            "reading video\n",
            "(30, 160, 160, 3)\n",
            "reading video\n"
          ]
        }
      ]
    },
    {
      "cell_type": "code",
      "source": [
        "model1.fit()"
      ],
      "metadata": {
        "id": "KEWjewH4fnBK"
      },
      "execution_count": null,
      "outputs": []
    },
    {
      "cell_type": "code",
      "source": [
        "frm = video_reader(cv2,'fightvideo.mp4')"
      ],
      "metadata": {
        "id": "IriTl1Cna9Y8"
      },
      "execution_count": null,
      "outputs": []
    },
    {
      "cell_type": "code",
      "execution_count": null,
      "metadata": {
        "id": "6h1BlLt0ea71"
      },
      "outputs": [],
      "source": [
        "def pred_fight(model,video,acuracy=0.9):\n",
        "    pred_test = model.predict(video)\n",
        "    if pred_test[0][1] >=acuracy:\n",
        "        return True , pred_test[0][1]\n",
        "    else:\n",
        "        return False , pred_test[0][1]"
      ]
    },
    {
      "cell_type": "code",
      "execution_count": null,
      "metadata": {
        "id": "-lOX5nrCea71"
      },
      "outputs": [],
      "source": [
        "def main_fight(vidoss):\n",
        "    vid = video_reader(cv2,vidoss)\n",
        "    datav = np.zeros((1, 30, 160, 160, 3), dtype=np.float)\n",
        "    datav[0][:][:] = vid\n",
        "    millis = int(round(time.time() * 1000))\n",
        "    print(millis)\n",
        "    f , precent = pred_fight(model1,datav,acuracy=0.65)\n",
        "    millis2 = int(round(time.time() * 1000))\n",
        "    print(millis2)\n",
        "    res_fight = {'violence':f ,'violenceestimation':str(precent)}\n",
        "    res_fight['processing_time'] =  str(millis2-millis)\n",
        "    return res_fight"
      ]
    },
    {
      "cell_type": "code",
      "execution_count": null,
      "metadata": {
        "colab": {
          "base_uri": "https://localhost:8080/"
        },
        "id": "6-152Jf3ea71",
        "outputId": "3e7928f7-4df3-4bab-ec40-a7a6e45f1905"
      },
      "outputs": [
        {
          "output_type": "stream",
          "name": "stderr",
          "text": [
            "<ipython-input-16-bcf2b196095c>:2: DeprecationWarning: `np.float` is a deprecated alias for the builtin `float`. To silence this warning, use `float` by itself. Doing this will not modify any behavior and is safe. If you specifically wanted the numpy scalar type, use `np.float64` here.\n",
            "Deprecated in NumPy 1.20; for more details and guidance: https://numpy.org/devdocs/release/1.20.0-notes.html#deprecations\n",
            "  frames = np.zeros((30, 160, 160, 3), dtype=np.float)\n"
          ]
        },
        {
          "output_type": "stream",
          "name": "stdout",
          "text": [
            "(30, 160, 160, 3)\n",
            "reading video\n"
          ]
        },
        {
          "output_type": "stream",
          "name": "stderr",
          "text": [
            "<ipython-input-19-71d1d70150f3>:3: DeprecationWarning: `np.float` is a deprecated alias for the builtin `float`. To silence this warning, use `float` by itself. Doing this will not modify any behavior and is safe. If you specifically wanted the numpy scalar type, use `np.float64` here.\n",
            "Deprecated in NumPy 1.20; for more details and guidance: https://numpy.org/devdocs/release/1.20.0-notes.html#deprecations\n",
            "  datav = np.zeros((1, 30, 160, 160, 3), dtype=np.float)\n"
          ]
        },
        {
          "output_type": "stream",
          "name": "stdout",
          "text": [
            "1682920927727\n",
            "1/1 [==============================] - 5s 5s/step\n",
            "1682920932710\n"
          ]
        }
      ],
      "source": [
        "res = main_fight('fightvideo.mp4')"
      ]
    },
    {
      "cell_type": "code",
      "execution_count": null,
      "metadata": {
        "colab": {
          "base_uri": "https://localhost:8080/"
        },
        "id": "Y3U3CAM3ea72",
        "outputId": "98dec1e1-4b5e-45af-c25c-eafe32f28138"
      },
      "outputs": [
        {
          "output_type": "execute_result",
          "data": {
            "text/plain": [
              "{'violence': True,\n",
              " 'violenceestimation': '0.9647758',\n",
              " 'processing_time': '4983'}"
            ]
          },
          "metadata": {},
          "execution_count": 21
        }
      ],
      "source": [
        "res"
      ]
    },
    {
      "cell_type": "code",
      "source": [
        "!python predict_video2.py --input fightvideo.mp4 --output results.avi --size 128"
      ],
      "metadata": {
        "colab": {
          "base_uri": "https://localhost:8080/"
        },
        "id": "Re57TJW4hTV7",
        "outputId": "38565324-80f9-416e-b2f2-04765a70bb93"
      },
      "execution_count": null,
      "outputs": [
        {
          "output_type": "stream",
          "name": "stdout",
          "text": [
            "2023-05-01 06:02:18.601125: W tensorflow/compiler/tf2tensorrt/utils/py_utils.cc:38] TF-TRT Warning: Could not find TensorRT\n",
            "2023-05-01 06:02:22.695375: W tensorflow/core/common_runtime/gpu/gpu_bfc_allocator.cc:47] Overriding orig_value setting because the TF_FORCE_GPU_ALLOW_GROWTH environment variable is set. Original config value was 0.\n",
            "WARNING:absl:`lr` is deprecated in Keras optimizer, please use `learning_rate` or use the legacy optimizer, e.g.,tf.keras.optimizers.legacy.Adam.\n",
            "2023-05-01 06:02:23.814297: W tensorflow/core/util/tensor_slice_reader.cc:97] Could not open fightw.hdfs: DATA_LOSS: not an sstable (bad magic number): perhaps your file is in a different file format and you need to use a different restore operator?\n",
            "[INFO] loading model and label binarizer...\n",
            "/content/predict_video2.py:62: DeprecationWarning: `np.float` is a deprecated alias for the builtin `float`. To silence this warning, use `float` by itself. Doing this will not modify any behavior and is safe. If you specifically wanted the numpy scalar type, use `np.float64` here.\n",
            "Deprecated in NumPy 1.20; for more details and guidance: https://numpy.org/devdocs/release/1.20.0-notes.html#deprecations\n",
            "  frames = np.zeros((30, 160, 160, 3), dtype=np.float)\n",
            "/content/predict_video2.py:63: DeprecationWarning: `np.float` is a deprecated alias for the builtin `float`. To silence this warning, use `float` by itself. Doing this will not modify any behavior and is safe. If you specifically wanted the numpy scalar type, use `np.float64` here.\n",
            "Deprecated in NumPy 1.20; for more details and guidance: https://numpy.org/devdocs/release/1.20.0-notes.html#deprecations\n",
            "  datav = np.zeros((1, 30, 160, 160, 3), dtype=np.float)\n",
            "2023-05-01 06:02:26.590164: W tensorflow/tsl/framework/bfc_allocator.cc:366] Garbage collection: deallocate free memory regions (i.e., allocations) so that we can re-allocate a larger region to avoid OOM due to memory fragmentation. If you see this message frequently, you are running near the threshold of the available device memory and re-allocation may incur great performance overhead. You may try smaller batch sizes to observe the performance impact. Set TF_ENABLE_GPU_GARBAGE_COLLECTION=false if you'd like to disable this feature.\n",
            "1/1 [==============================] - 5s 5s/step\n",
            "Results =  [[0.03679793 0.9631552 ]]\n",
            "Maximun Probability =  0.9631552\n",
            "Difference of prob  0.9263104200363159\n",
            "qt.qpa.xcb: could not connect to display \n",
            "qt.qpa.plugin: Could not load the Qt platform plugin \"xcb\" in \"/usr/local/lib/python3.10/dist-packages/cv2/qt/plugins\" even though it was found.\n",
            "This application failed to start because no Qt platform plugin could be initialized. Reinstalling the application may fix this problem.\n",
            "\n",
            "Available platform plugins are: xcb.\n",
            "\n"
          ]
        }
      ]
    },
    {
      "cell_type": "code",
      "source": [
        "# !pip uninstall opencv-python --yes"
      ],
      "metadata": {
        "colab": {
          "base_uri": "https://localhost:8080/"
        },
        "id": "FTxcviR53nUn",
        "outputId": "ef04dedd-666b-4a72-eff8-478429515e06"
      },
      "execution_count": null,
      "outputs": [
        {
          "output_type": "stream",
          "name": "stdout",
          "text": [
            "Found existing installation: opencv-python 4.7.0.72\n",
            "Uninstalling opencv-python-4.7.0.72:\n",
            "  Successfully uninstalled opencv-python-4.7.0.72\n"
          ]
        }
      ]
    },
    {
      "cell_type": "code",
      "source": [
        "!pip install opencv-python"
      ],
      "metadata": {
        "colab": {
          "base_uri": "https://localhost:8080/"
        },
        "id": "jympMsca3o7F",
        "outputId": "2ad54ced-b8f4-4fc5-e956-ef2d3d960c42"
      },
      "execution_count": null,
      "outputs": [
        {
          "output_type": "stream",
          "name": "stdout",
          "text": [
            "Looking in indexes: https://pypi.org/simple, https://us-python.pkg.dev/colab-wheels/public/simple/\n",
            "Collecting opencv-python\n",
            "  Using cached opencv_python-4.7.0.72-cp37-abi3-manylinux_2_17_x86_64.manylinux2014_x86_64.whl (61.8 MB)\n",
            "Requirement already satisfied: numpy>=1.21.2 in /usr/local/lib/python3.10/dist-packages (from opencv-python) (1.22.4)\n",
            "Installing collected packages: opencv-python\n",
            "Successfully installed opencv-python-4.7.0.72\n"
          ]
        }
      ]
    },
    {
      "cell_type": "code",
      "source": [
        "# !pip install tensorrt"
      ],
      "metadata": {
        "id": "Er7EU8dllbV7"
      },
      "execution_count": null,
      "outputs": []
    },
    {
      "cell_type": "code",
      "source": [
        "!pip3 install twilio"
      ],
      "metadata": {
        "id": "KVVwE1p6l4iP",
        "colab": {
          "base_uri": "https://localhost:8080/"
        },
        "outputId": "25e1020e-8ff0-4a01-a9b4-1355df429950"
      },
      "execution_count": null,
      "outputs": [
        {
          "output_type": "stream",
          "name": "stdout",
          "text": [
            "Looking in indexes: https://pypi.org/simple, https://us-python.pkg.dev/colab-wheels/public/simple/\n",
            "Collecting twilio\n",
            "  Downloading twilio-8.1.0-py2.py3-none-any.whl (1.7 MB)\n",
            "\u001b[2K     \u001b[90m━━━━━━━━━━━━━━━━━━━━━━━━━━━━━━━━━━━━━━━━\u001b[0m \u001b[32m1.7/1.7 MB\u001b[0m \u001b[31m36.9 MB/s\u001b[0m eta \u001b[36m0:00:00\u001b[0m\n",
            "\u001b[?25hRequirement already satisfied: requests>=2.0.0 in /usr/local/lib/python3.10/dist-packages (from twilio) (2.27.1)\n",
            "Collecting aiohttp>=3.8.4\n",
            "  Downloading aiohttp-3.8.4-cp310-cp310-manylinux_2_17_x86_64.manylinux2014_x86_64.whl (1.0 MB)\n",
            "\u001b[2K     \u001b[90m━━━━━━━━━━━━━━━━━━━━━━━━━━━━━━━━━━━━━━━━\u001b[0m \u001b[32m1.0/1.0 MB\u001b[0m \u001b[31m58.2 MB/s\u001b[0m eta \u001b[36m0:00:00\u001b[0m\n",
            "\u001b[?25hCollecting PyJWT<3.0.0,>=2.0.0\n",
            "  Downloading PyJWT-2.6.0-py3-none-any.whl (20 kB)\n",
            "Collecting aiohttp-retry>=2.8.3\n",
            "  Downloading aiohttp_retry-2.8.3-py3-none-any.whl (9.8 kB)\n",
            "Requirement already satisfied: pytz in /usr/local/lib/python3.10/dist-packages (from twilio) (2022.7.1)\n",
            "Requirement already satisfied: charset-normalizer<4.0,>=2.0 in /usr/local/lib/python3.10/dist-packages (from aiohttp>=3.8.4->twilio) (2.0.12)\n",
            "Collecting multidict<7.0,>=4.5\n",
            "  Downloading multidict-6.0.4-cp310-cp310-manylinux_2_17_x86_64.manylinux2014_x86_64.whl (114 kB)\n",
            "\u001b[2K     \u001b[90m━━━━━━━━━━━━━━━━━━━━━━━━━━━━━━━━━━━━━━\u001b[0m \u001b[32m114.5/114.5 kB\u001b[0m \u001b[31m15.5 MB/s\u001b[0m eta \u001b[36m0:00:00\u001b[0m\n",
            "\u001b[?25hRequirement already satisfied: attrs>=17.3.0 in /usr/local/lib/python3.10/dist-packages (from aiohttp>=3.8.4->twilio) (23.1.0)\n",
            "Collecting frozenlist>=1.1.1\n",
            "  Downloading frozenlist-1.3.3-cp310-cp310-manylinux_2_5_x86_64.manylinux1_x86_64.manylinux_2_17_x86_64.manylinux2014_x86_64.whl (149 kB)\n",
            "\u001b[2K     \u001b[90m━━━━━━━━━━━━━━━━━━━━━━━━━━━━━━━━━━━━━━\u001b[0m \u001b[32m149.6/149.6 kB\u001b[0m \u001b[31m20.4 MB/s\u001b[0m eta \u001b[36m0:00:00\u001b[0m\n",
            "\u001b[?25hCollecting async-timeout<5.0,>=4.0.0a3\n",
            "  Downloading async_timeout-4.0.2-py3-none-any.whl (5.8 kB)\n",
            "Collecting aiosignal>=1.1.2\n",
            "  Downloading aiosignal-1.3.1-py3-none-any.whl (7.6 kB)\n",
            "Collecting yarl<2.0,>=1.0\n",
            "  Downloading yarl-1.9.2-cp310-cp310-manylinux_2_17_x86_64.manylinux2014_x86_64.whl (268 kB)\n",
            "\u001b[2K     \u001b[90m━━━━━━━━━━━━━━━━━━━━━━━━━━━━━━━━━━━━━━\u001b[0m \u001b[32m268.8/268.8 kB\u001b[0m \u001b[31m32.7 MB/s\u001b[0m eta \u001b[36m0:00:00\u001b[0m\n",
            "\u001b[?25hRequirement already satisfied: idna<4,>=2.5 in /usr/local/lib/python3.10/dist-packages (from requests>=2.0.0->twilio) (3.4)\n",
            "Requirement already satisfied: urllib3<1.27,>=1.21.1 in /usr/local/lib/python3.10/dist-packages (from requests>=2.0.0->twilio) (1.26.15)\n",
            "Requirement already satisfied: certifi>=2017.4.17 in /usr/local/lib/python3.10/dist-packages (from requests>=2.0.0->twilio) (2022.12.7)\n",
            "Installing collected packages: PyJWT, multidict, frozenlist, async-timeout, yarl, aiosignal, aiohttp, aiohttp-retry, twilio\n",
            "Successfully installed PyJWT-2.6.0 aiohttp-3.8.4 aiohttp-retry-2.8.3 aiosignal-1.3.1 async-timeout-4.0.2 frozenlist-1.3.3 multidict-6.0.4 twilio-8.1.0 yarl-1.9.2\n"
          ]
        }
      ]
    },
    {
      "cell_type": "code",
      "source": [
        "# !python predict_video1.py"
      ],
      "metadata": {
        "id": "Qjx6eK-xlR2k"
      },
      "execution_count": null,
      "outputs": []
    },
    {
      "cell_type": "code",
      "source": [
        "# !python violencemodel.py"
      ],
      "metadata": {
        "colab": {
          "base_uri": "https://localhost:8080/"
        },
        "id": "5sX2TKA0kYd_",
        "outputId": "142be7dc-8061-4b51-aa39-df6262d11160"
      },
      "execution_count": null,
      "outputs": [
        {
          "output_type": "stream",
          "name": "stdout",
          "text": [
            "2023-05-01 04:36:26.451704: W tensorflow/compiler/tf2tensorrt/utils/py_utils.cc:38] TF-TRT Warning: Could not find TensorRT\n"
          ]
        }
      ]
    },
    {
      "cell_type": "code",
      "execution_count": null,
      "metadata": {
        "id": "VYLgjwtVea72"
      },
      "outputs": [],
      "source": [
        "res = main_fight('testvideo.mp4')"
      ]
    },
    {
      "cell_type": "code",
      "execution_count": null,
      "metadata": {
        "id": "56fkh-8Tea72"
      },
      "outputs": [],
      "source": [
        "res"
      ]
    },
    {
      "cell_type": "code",
      "source": [
        "!python predict_video2.py --input testvideo.mp4 --output results2.avi --size 128"
      ],
      "metadata": {
        "id": "QW_E7L24zr6S"
      },
      "execution_count": null,
      "outputs": []
    }
  ],
  "metadata": {
    "kernelspec": {
      "display_name": "Python 3",
      "language": "python",
      "name": "python3"
    },
    "language_info": {
      "codemirror_mode": {
        "name": "ipython",
        "version": 3
      },
      "file_extension": ".py",
      "mimetype": "text/x-python",
      "name": "python",
      "nbconvert_exporter": "python",
      "pygments_lexer": "ipython3",
      "version": "3.8.2"
    },
    "colab": {
      "provenance": []
    },
    "accelerator": "GPU",
    "gpuClass": "standard"
  },
  "nbformat": 4,
  "nbformat_minor": 0
}